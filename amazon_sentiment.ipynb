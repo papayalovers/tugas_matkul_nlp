{
 "cells": [
  {
   "cell_type": "markdown",
   "metadata": {},
   "source": [
    "# Amazon Review Sentiment Analysis"
   ]
  },
  {
   "cell_type": "markdown",
   "metadata": {},
   "source": [
    "# Import Library"
   ]
  },
  {
   "cell_type": "code",
   "execution_count": 98,
   "metadata": {},
   "outputs": [],
   "source": [
    "import pandas as pd\n",
    "import numpy as np\n",
    "import matplotlib.pyplot as plt\n",
    "import seaborn as sns\n",
    "from tqdm.auto import tqdm\n",
    "import re\n",
    "import string\n",
    "import tensorflow as tf\n",
    "import warnings\n",
    "warnings.filterwarnings('ignore')\n",
    "import nltk\n",
    "from nltk.tokenize import word_tokenize\n",
    "from nltk.stem import WordNetLemmatizer\n",
    "from nltk.corpus import stopwords\n",
    "#\n",
    "from sklearn.feature_extraction.text import TfidfVectorizer\n",
    "from sklearn.model_selection import train_test_split\n",
    "from imblearn.over_sampling import SMOTE\n",
    "from sklearn.naive_bayes import MultinomialNB\n",
    "from sklearn.metrics import classification_report\n",
    "from tensorflow.keras.preprocessing.text import Tokenizer\n",
    "from tensorflow.keras.preprocessing.sequence import pad_sequences\n",
    "from tensorflow.keras.models import Sequential\n",
    "from tensorflow.keras.layers import Embedding, SpatialDropout1D, LSTM, Dense, GlobalAveragePooling1D, Conv1D, Reshape\n",
    "from tensorflow.keras import backend as K\n",
    "from tensorflow.keras.optimizers import Adam\n",
    "from tensorflow.keras.regularizers import l2\n",
    "\n"
   ]
  },
  {
   "cell_type": "code",
   "execution_count": 24,
   "metadata": {},
   "outputs": [],
   "source": [
    "# membaca dataset\n",
    "df_reviews = pd.read_csv('amazon.csv')"
   ]
  },
  {
   "cell_type": "code",
   "execution_count": 25,
   "metadata": {},
   "outputs": [
    {
     "name": "stdout",
     "output_type": "stream",
     "text": [
      "<class 'pandas.core.frame.DataFrame'>\n",
      "RangeIndex: 19996 entries, 0 to 19995\n",
      "Data columns (total 2 columns):\n",
      " #   Column  Non-Null Count  Dtype \n",
      "---  ------  --------------  ----- \n",
      " 0   Text    19996 non-null  object\n",
      " 1   label   19996 non-null  int64 \n",
      "dtypes: int64(1), object(1)\n",
      "memory usage: 312.6+ KB\n"
     ]
    }
   ],
   "source": [
    "# informasi umum dataset\n",
    "df_reviews.info()"
   ]
  },
  {
   "cell_type": "code",
   "execution_count": 26,
   "metadata": {},
   "outputs": [
    {
     "data": {
      "text/plain": [
       "Text   label\n",
       "False  False    19996\n",
       "Name: count, dtype: int64"
      ]
     },
     "execution_count": 26,
     "metadata": {},
     "output_type": "execute_result"
    }
   ],
   "source": [
    "# menghitung missing value\n",
    "df_reviews.isna().value_counts()"
   ]
  },
  {
   "cell_type": "code",
   "execution_count": 27,
   "metadata": {},
   "outputs": [
    {
     "data": {
      "text/plain": [
       "0"
      ]
     },
     "execution_count": 27,
     "metadata": {},
     "output_type": "execute_result"
    }
   ],
   "source": [
    "# memeriksa duplikat\n",
    "df_reviews.duplicated().sum()"
   ]
  },
  {
   "cell_type": "code",
   "execution_count": 28,
   "metadata": {},
   "outputs": [
    {
     "data": {
      "text/html": [
       "<div>\n",
       "<style scoped>\n",
       "    .dataframe tbody tr th:only-of-type {\n",
       "        vertical-align: middle;\n",
       "    }\n",
       "\n",
       "    .dataframe tbody tr th {\n",
       "        vertical-align: top;\n",
       "    }\n",
       "\n",
       "    .dataframe thead th {\n",
       "        text-align: right;\n",
       "    }\n",
       "</style>\n",
       "<table border=\"1\" class=\"dataframe\">\n",
       "  <thead>\n",
       "    <tr style=\"text-align: right;\">\n",
       "      <th></th>\n",
       "      <th>Text</th>\n",
       "      <th>label</th>\n",
       "    </tr>\n",
       "  </thead>\n",
       "  <tbody>\n",
       "    <tr>\n",
       "      <th>0</th>\n",
       "      <td>This is  the best apps acording to a bunch of ...</td>\n",
       "      <td>1</td>\n",
       "    </tr>\n",
       "    <tr>\n",
       "      <th>1</th>\n",
       "      <td>This is a pretty good version of the game for ...</td>\n",
       "      <td>1</td>\n",
       "    </tr>\n",
       "    <tr>\n",
       "      <th>2</th>\n",
       "      <td>this is a really . there are a bunch of levels...</td>\n",
       "      <td>1</td>\n",
       "    </tr>\n",
       "    <tr>\n",
       "      <th>3</th>\n",
       "      <td>This is a silly game and can be frustrating, b...</td>\n",
       "      <td>1</td>\n",
       "    </tr>\n",
       "    <tr>\n",
       "      <th>4</th>\n",
       "      <td>This is a terrific game on any pad. Hrs of fun...</td>\n",
       "      <td>1</td>\n",
       "    </tr>\n",
       "  </tbody>\n",
       "</table>\n",
       "</div>"
      ],
      "text/plain": [
       "                                                Text  label\n",
       "0  This is  the best apps acording to a bunch of ...      1\n",
       "1  This is a pretty good version of the game for ...      1\n",
       "2  this is a really . there are a bunch of levels...      1\n",
       "3  This is a silly game and can be frustrating, b...      1\n",
       "4  This is a terrific game on any pad. Hrs of fun...      1"
      ]
     },
     "execution_count": 28,
     "metadata": {},
     "output_type": "execute_result"
    }
   ],
   "source": [
    "# menampilkan 5 baris pertama dataset\n",
    "df_reviews.head()"
   ]
  },
  {
   "cell_type": "markdown",
   "metadata": {},
   "source": [
    "# Distribusi Label \n",
    "\n",
    "Kita akan memeriksa hasil distribusi label dari dataset yang akan kita gunakan untuk membangun model sentimen."
   ]
  },
  {
   "cell_type": "code",
   "execution_count": 29,
   "metadata": {},
   "outputs": [
    {
     "data": {
      "image/png": "[encoded data removed]",
      "text/plain": [
       "<Figure size 800x500 with 1 Axes>"
      ]
     },
     "metadata": {},
     "output_type": "display_data"
    }
   ],
   "source": [
    "sns.set_theme(style='darkgrid')\n",
    "\n",
    "plt.figure(figsize=(8,5))\n",
    "ax = sns.countplot(data=df_reviews, x='label', palette='viridis')\n",
    "\n",
    "for bar in ax.patches:\n",
    "    height = bar.get_height()\n",
    "    ax.annotate(f'{height / len(df_reviews) * 100:.2f}%',\n",
    "                (bar.get_x() + bar.get_width() / 2, height),\n",
    "                ha='center', va='center', size=10, xytext=(0, 10),\n",
    "                textcoords='offset points')\n",
    "    \n",
    "plt.title('Jumlah Sentimen Positive dan Positive', size=14, fontweight='bold')\n",
    "plt.ylim(0, 17000)\n",
    "plt.xlabel('Sentimen')\n",
    "plt.xticks(ticks=[0,1], labels=['Negative','Positive'])\n",
    "plt.show()"
   ]
  },
  {
   "cell_type": "markdown",
   "metadata": {},
   "source": [
    "Pada keseluruhan data yang dimiliki mayoritas review pada e-commerce amazon adalah positive dimana bisa kita lihat bahwa komposisi dari sentimen negatif dan positif terlihat perbedaan yang cukup jauh, dimana untuk nilai sentimen negatif itu sebesar 5000 reviews dan untuk yang positif terdapat 15000 reviews."
   ]
  },
  {
   "cell_type": "markdown",
   "metadata": {},
   "source": [
    "# Text Pre-Processing"
   ]
  },
  {
   "cell_type": "markdown",
   "metadata": {},
   "source": [
    "## Case Folding\n",
    "\n",
    "Tahapan case folding merupakan proses dimana mengubah kalimat menjadi huruf kecil agar data kita tidak memiliki dua bentuk. Ex : 'Good', 'good'"
   ]
  },
  {
   "cell_type": "code",
   "execution_count": 30,
   "metadata": {},
   "outputs": [
    {
     "data": {
      "text/html": [
       "<div>\n",
       "<style scoped>\n",
       "    .dataframe tbody tr th:only-of-type {\n",
       "        vertical-align: middle;\n",
       "    }\n",
       "\n",
       "    .dataframe tbody tr th {\n",
       "        vertical-align: top;\n",
       "    }\n",
       "\n",
       "    .dataframe thead th {\n",
       "        text-align: right;\n",
       "    }\n",
       "</style>\n",
       "<table border=\"1\" class=\"dataframe\">\n",
       "  <thead>\n",
       "    <tr style=\"text-align: right;\">\n",
       "      <th></th>\n",
       "      <th>Text</th>\n",
       "      <th>label</th>\n",
       "      <th>text_case_folding</th>\n",
       "    </tr>\n",
       "  </thead>\n",
       "  <tbody>\n",
       "    <tr>\n",
       "      <th>0</th>\n",
       "      <td>This is  the best apps acording to a bunch of ...</td>\n",
       "      <td>1</td>\n",
       "      <td>this is  the best apps acording to a bunch of ...</td>\n",
       "    </tr>\n",
       "    <tr>\n",
       "      <th>1</th>\n",
       "      <td>This is a pretty good version of the game for ...</td>\n",
       "      <td>1</td>\n",
       "      <td>this is a pretty good version of the game for ...</td>\n",
       "    </tr>\n",
       "    <tr>\n",
       "      <th>2</th>\n",
       "      <td>this is a really . there are a bunch of levels...</td>\n",
       "      <td>1</td>\n",
       "      <td>this is a really . there are a bunch of levels...</td>\n",
       "    </tr>\n",
       "    <tr>\n",
       "      <th>3</th>\n",
       "      <td>This is a silly game and can be frustrating, b...</td>\n",
       "      <td>1</td>\n",
       "      <td>this is a silly game and can be frustrating, b...</td>\n",
       "    </tr>\n",
       "    <tr>\n",
       "      <th>4</th>\n",
       "      <td>This is a terrific game on any pad. Hrs of fun...</td>\n",
       "      <td>1</td>\n",
       "      <td>this is a terrific game on any pad. hrs of fun...</td>\n",
       "    </tr>\n",
       "  </tbody>\n",
       "</table>\n",
       "</div>"
      ],
      "text/plain": [
       "                                                Text  label  \\\n",
       "0  This is  the best apps acording to a bunch of ...      1   \n",
       "1  This is a pretty good version of the game for ...      1   \n",
       "2  this is a really . there are a bunch of levels...      1   \n",
       "3  This is a silly game and can be frustrating, b...      1   \n",
       "4  This is a terrific game on any pad. Hrs of fun...      1   \n",
       "\n",
       "                                   text_case_folding  \n",
       "0  this is  the best apps acording to a bunch of ...  \n",
       "1  this is a pretty good version of the game for ...  \n",
       "2  this is a really . there are a bunch of levels...  \n",
       "3  this is a silly game and can be frustrating, b...  \n",
       "4  this is a terrific game on any pad. hrs of fun...  "
      ]
     },
     "execution_count": 30,
     "metadata": {},
     "output_type": "execute_result"
    }
   ],
   "source": [
    "df_reviews['text_case_folding'] = df_reviews.Text.str.lower()\n",
    "df_reviews.head()"
   ]
  },
  {
   "cell_type": "markdown",
   "metadata": {},
   "source": [
    "## Cleaning Data\n",
    "\n",
    "Pada tahap cleaning data merupakan proses dimana membersihkan karakter-karakter seperti tanda baca, simbol, angka, html, mention dan lain-lain."
   ]
  },
  {
   "cell_type": "code",
   "execution_count": 31,
   "metadata": {},
   "outputs": [],
   "source": [
    "# fungsi-fungsi yang digunakan untuk cleaning sentences\n",
    "def remove_urls(text): # fungsi untuk menghapus url \n",
    "    url_pattern = re.compile(r'https?://\\S+|www\\.\\S+')\n",
    "    return url_pattern.sub(r'', text)\n",
    "\n",
    "def remove_hastagh(text): # fungsi untuk menghapus hastag\n",
    "    hastag_pattern = re.compile(r'#\\S+')\n",
    "    return hastag_pattern.sub(r'', text)\n",
    "\n",
    "def remove_mention(text): # fungsi untuk menghapus mention\n",
    "    mention_pattern = re.compile(r'@\\S+')\n",
    "    return mention_pattern.sub(r'', text)\n",
    "\n",
    "def remove_emojis(text): # fungsi untuk menghapus emoticon\n",
    "    emoji_pattern = re.compile(\"[\"\n",
    "                               u\"\\U0001F600-\\U0001F64F\"  # emoticons\n",
    "                               u\"\\U0001F300-\\U0001F5FF\"  # symbols & pictographs\n",
    "                               u\"\\U0001F680-\\U0001F6FF\"  # transport & map symbols\n",
    "                               u\"\\U0001F1E0-\\U0001F1FF\"  # flags (iOS)\n",
    "                               u\"\\U00002702-\\U000027B0\"\n",
    "                               u\"\\U000024C2-\\U0001F251\"\n",
    "                               \"]+\", flags=re.UNICODE)\n",
    "    return emoji_pattern.sub(r'', text)\n",
    "\n",
    "def remove_symbols(text): # fungsi untuk menghapus symbol-symbol\n",
    "    return text.translate(str.maketrans('', '', string.punctuation))    \n",
    "def remove_number(text): # fungsi untuk menghapus angka\n",
    "    return text.translate(str.maketrans('', '', string.digits))\n",
    "def reduce_repeated_characters(text): # fungsi untuk menghapus huruf berulang\n",
    "    return re.sub(r'(.)\\1{2,}', r'\\1\\1', text)\n",
    "\n",
    "# apply semua fungsi \n",
    "def preprocess_sentence(text):\n",
    "    text = remove_urls(text)\n",
    "    text = remove_hastagh(text)\n",
    "    text = remove_mention(text)\n",
    "    text = remove_emojis(text)\n",
    "    text = remove_symbols(text)\n",
    "    text = remove_number(text)\n",
    "    text = reduce_repeated_characters(text)\n",
    "    return text\n"
   ]
  },
  {
   "cell_type": "code",
   "execution_count": 32,
   "metadata": {},
   "outputs": [
    {
     "name": "stdout",
     "output_type": "stream",
     "text": [
      "Hey  check out the webpage  I found it awesome  aaweessoomme\n"
     ]
    }
   ],
   "source": [
    "# contoh uji coba\n",
    "text = \"Hey @user, check out the webpage: https://example.com. I found it awesome! 😎 #exciting 000123 aaaweesssooooommme\" # @param {text: \"string\"}\n",
    "print(preprocess_sentence(text))"
   ]
  },
  {
   "cell_type": "code",
   "execution_count": 33,
   "metadata": {},
   "outputs": [
    {
     "data": {
      "text/html": [
       "<div>\n",
       "<style scoped>\n",
       "    .dataframe tbody tr th:only-of-type {\n",
       "        vertical-align: middle;\n",
       "    }\n",
       "\n",
       "    .dataframe tbody tr th {\n",
       "        vertical-align: top;\n",
       "    }\n",
       "\n",
       "    .dataframe thead th {\n",
       "        text-align: right;\n",
       "    }\n",
       "</style>\n",
       "<table border=\"1\" class=\"dataframe\">\n",
       "  <thead>\n",
       "    <tr style=\"text-align: right;\">\n",
       "      <th></th>\n",
       "      <th>Text</th>\n",
       "      <th>text_case_folding</th>\n",
       "      <th>text_cleaning</th>\n",
       "    </tr>\n",
       "  </thead>\n",
       "  <tbody>\n",
       "    <tr>\n",
       "      <th>19991</th>\n",
       "      <td>this app is fricken stupid.it froze on the kin...</td>\n",
       "      <td>this app is fricken stupid.it froze on the kin...</td>\n",
       "      <td>this app is fricken stupidit froze on the kind...</td>\n",
       "    </tr>\n",
       "    <tr>\n",
       "      <th>19992</th>\n",
       "      <td>Please add me!!!!! I need neighbors! Ginger101...</td>\n",
       "      <td>please add me!!!!! i need neighbors! ginger101...</td>\n",
       "      <td>please add me i need neighbors ginger thanks b...</td>\n",
       "    </tr>\n",
       "    <tr>\n",
       "      <th>19993</th>\n",
       "      <td>love it!  this game. is awesome. wish it had m...</td>\n",
       "      <td>love it!  this game. is awesome. wish it had m...</td>\n",
       "      <td>love it  this game is awesome wish it had more...</td>\n",
       "    </tr>\n",
       "    <tr>\n",
       "      <th>19994</th>\n",
       "      <td>I love love love this app on my side of fashio...</td>\n",
       "      <td>i love love love this app on my side of fashio...</td>\n",
       "      <td>i love love love this app on my side of fashio...</td>\n",
       "    </tr>\n",
       "    <tr>\n",
       "      <th>19995</th>\n",
       "      <td>This game is a rip off. Here is a list of thin...</td>\n",
       "      <td>this game is a rip off. here is a list of thin...</td>\n",
       "      <td>this game is a rip off here is a list of thing...</td>\n",
       "    </tr>\n",
       "  </tbody>\n",
       "</table>\n",
       "</div>"
      ],
      "text/plain": [
       "                                                    Text  \\\n",
       "19991  this app is fricken stupid.it froze on the kin...   \n",
       "19992  Please add me!!!!! I need neighbors! Ginger101...   \n",
       "19993  love it!  this game. is awesome. wish it had m...   \n",
       "19994  I love love love this app on my side of fashio...   \n",
       "19995  This game is a rip off. Here is a list of thin...   \n",
       "\n",
       "                                       text_case_folding  \\\n",
       "19991  this app is fricken stupid.it froze on the kin...   \n",
       "19992  please add me!!!!! i need neighbors! ginger101...   \n",
       "19993  love it!  this game. is awesome. wish it had m...   \n",
       "19994  i love love love this app on my side of fashio...   \n",
       "19995  this game is a rip off. here is a list of thin...   \n",
       "\n",
       "                                           text_cleaning  \n",
       "19991  this app is fricken stupidit froze on the kind...  \n",
       "19992  please add me i need neighbors ginger thanks b...  \n",
       "19993  love it  this game is awesome wish it had more...  \n",
       "19994  i love love love this app on my side of fashio...  \n",
       "19995  this game is a rip off here is a list of thing...  "
      ]
     },
     "execution_count": 33,
     "metadata": {},
     "output_type": "execute_result"
    }
   ],
   "source": [
    "# mengaplikasikan fungsi ke text\n",
    "df_reviews['text_cleaning'] = df_reviews.text_case_folding.apply(preprocess_sentence)\n",
    "df_reviews.drop('label', axis=1).tail()"
   ]
  },
  {
   "cell_type": "markdown",
   "metadata": {},
   "source": [
    "## Lemmatization"
   ]
  },
  {
   "cell_type": "code",
   "execution_count": 34,
   "metadata": {},
   "outputs": [],
   "source": [
    "# fungsi yang digunakan untuk lematization text\n",
    "def lemmatize_nltk(text):\n",
    "    lemmatizer = WordNetLemmatizer()\n",
    "    tokens = word_tokenize(text)\n",
    "    lemmas = [lemmatizer.lemmatize(token) for token in tokens]\n",
    "    return \" \".join(lemmas)"
   ]
  },
  {
   "cell_type": "code",
   "execution_count": 35,
   "metadata": {},
   "outputs": [
    {
     "data": {
      "text/html": [
       "<div>\n",
       "<style scoped>\n",
       "    .dataframe tbody tr th:only-of-type {\n",
       "        vertical-align: middle;\n",
       "    }\n",
       "\n",
       "    .dataframe tbody tr th {\n",
       "        vertical-align: top;\n",
       "    }\n",
       "\n",
       "    .dataframe thead th {\n",
       "        text-align: right;\n",
       "    }\n",
       "</style>\n",
       "<table border=\"1\" class=\"dataframe\">\n",
       "  <thead>\n",
       "    <tr style=\"text-align: right;\">\n",
       "      <th></th>\n",
       "      <th>Text</th>\n",
       "      <th>text_case_folding</th>\n",
       "      <th>text_cleaning</th>\n",
       "      <th>text_lemma</th>\n",
       "    </tr>\n",
       "  </thead>\n",
       "  <tbody>\n",
       "    <tr>\n",
       "      <th>0</th>\n",
       "      <td>This is  the best apps acording to a bunch of ...</td>\n",
       "      <td>this is  the best apps acording to a bunch of ...</td>\n",
       "      <td>this is  the best apps acording to a bunch of ...</td>\n",
       "      <td>this is the best apps acording to a bunch of p...</td>\n",
       "    </tr>\n",
       "    <tr>\n",
       "      <th>1</th>\n",
       "      <td>This is a pretty good version of the game for ...</td>\n",
       "      <td>this is a pretty good version of the game for ...</td>\n",
       "      <td>this is a pretty good version of the game for ...</td>\n",
       "      <td>this is a pretty good version of the game for ...</td>\n",
       "    </tr>\n",
       "    <tr>\n",
       "      <th>2</th>\n",
       "      <td>this is a really . there are a bunch of levels...</td>\n",
       "      <td>this is a really . there are a bunch of levels...</td>\n",
       "      <td>this is a really  there are a bunch of levels ...</td>\n",
       "      <td>this is a really there are a bunch of level an...</td>\n",
       "    </tr>\n",
       "    <tr>\n",
       "      <th>3</th>\n",
       "      <td>This is a silly game and can be frustrating, b...</td>\n",
       "      <td>this is a silly game and can be frustrating, b...</td>\n",
       "      <td>this is a silly game and can be frustrating bu...</td>\n",
       "      <td>this is a silly game and can be frustrating bu...</td>\n",
       "    </tr>\n",
       "    <tr>\n",
       "      <th>4</th>\n",
       "      <td>This is a terrific game on any pad. Hrs of fun...</td>\n",
       "      <td>this is a terrific game on any pad. hrs of fun...</td>\n",
       "      <td>this is a terrific game on any pad hrs of fun ...</td>\n",
       "      <td>this is a terrific game on any pad hr of fun m...</td>\n",
       "    </tr>\n",
       "  </tbody>\n",
       "</table>\n",
       "</div>"
      ],
      "text/plain": [
       "                                                Text  \\\n",
       "0  This is  the best apps acording to a bunch of ...   \n",
       "1  This is a pretty good version of the game for ...   \n",
       "2  this is a really . there are a bunch of levels...   \n",
       "3  This is a silly game and can be frustrating, b...   \n",
       "4  This is a terrific game on any pad. Hrs of fun...   \n",
       "\n",
       "                                   text_case_folding  \\\n",
       "0  this is  the best apps acording to a bunch of ...   \n",
       "1  this is a pretty good version of the game for ...   \n",
       "2  this is a really . there are a bunch of levels...   \n",
       "3  this is a silly game and can be frustrating, b...   \n",
       "4  this is a terrific game on any pad. hrs of fun...   \n",
       "\n",
       "                                       text_cleaning  \\\n",
       "0  this is  the best apps acording to a bunch of ...   \n",
       "1  this is a pretty good version of the game for ...   \n",
       "2  this is a really  there are a bunch of levels ...   \n",
       "3  this is a silly game and can be frustrating bu...   \n",
       "4  this is a terrific game on any pad hrs of fun ...   \n",
       "\n",
       "                                          text_lemma  \n",
       "0  this is the best apps acording to a bunch of p...  \n",
       "1  this is a pretty good version of the game for ...  \n",
       "2  this is a really there are a bunch of level an...  \n",
       "3  this is a silly game and can be frustrating bu...  \n",
       "4  this is a terrific game on any pad hr of fun m...  "
      ]
     },
     "execution_count": 35,
     "metadata": {},
     "output_type": "execute_result"
    }
   ],
   "source": [
    "# mengaplikasikan fungsi ke text\n",
    "df_reviews['text_lemma'] = df_reviews.text_cleaning.apply(lemmatize_nltk)\n",
    "df_reviews.drop('label', axis=1).head()"
   ]
  },
  {
   "cell_type": "markdown",
   "metadata": {},
   "source": [
    "# Membagi Features dan Target\n"
   ]
  },
  {
   "cell_type": "code",
   "execution_count": 36,
   "metadata": {},
   "outputs": [],
   "source": [
    "# membagi features dan target\n",
    "features = df_reviews.text_lemma\n",
    "target = df_reviews.label"
   ]
  },
  {
   "cell_type": "markdown",
   "metadata": {},
   "source": [
    "# Membangun Model Machine Learning"
   ]
  },
  {
   "cell_type": "markdown",
   "metadata": {},
   "source": [
    "## Feature Extraction"
   ]
  },
  {
   "cell_type": "code",
   "execution_count": 37,
   "metadata": {},
   "outputs": [],
   "source": [
    "# text pre-processing dengan NLTK\n",
    "stop_words = list(stopwords.words('english'))\n",
    "count_tf_idf = TfidfVectorizer(stop_words=stop_words)"
   ]
  },
  {
   "cell_type": "code",
   "execution_count": 38,
   "metadata": {},
   "outputs": [],
   "source": [
    "# apply tf idf dan menghapus stopword \n",
    "features_tfidf = count_tf_idf.fit_transform(features)"
   ]
  },
  {
   "cell_type": "code",
   "execution_count": 39,
   "metadata": {},
   "outputs": [
    {
     "data": {
      "text/html": [
       "<div>\n",
       "<style scoped>\n",
       "    .dataframe tbody tr th:only-of-type {\n",
       "        vertical-align: middle;\n",
       "    }\n",
       "\n",
       "    .dataframe tbody tr th {\n",
       "        vertical-align: top;\n",
       "    }\n",
       "\n",
       "    .dataframe thead th {\n",
       "        text-align: right;\n",
       "    }\n",
       "</style>\n",
       "<table border=\"1\" class=\"dataframe\">\n",
       "  <thead>\n",
       "    <tr style=\"text-align: right;\">\n",
       "      <th></th>\n",
       "      <th>aa</th>\n",
       "      <th>aac</th>\n",
       "      <th>aagloorp</th>\n",
       "      <th>aah</th>\n",
       "      <th>aahowever</th>\n",
       "      <th>aaliyah</th>\n",
       "      <th>aammazinng</th>\n",
       "      <th>aapp</th>\n",
       "      <th>aardvark</th>\n",
       "      <th>aarp</th>\n",
       "      <th>...</th>\n",
       "      <th>zomg</th>\n",
       "      <th>zone</th>\n",
       "      <th>zoo</th>\n",
       "      <th>zoology</th>\n",
       "      <th>zoom</th>\n",
       "      <th>zoomed</th>\n",
       "      <th>zooming</th>\n",
       "      <th>zpg</th>\n",
       "      <th>zumocast</th>\n",
       "      <th>zz</th>\n",
       "    </tr>\n",
       "  </thead>\n",
       "  <tbody>\n",
       "    <tr>\n",
       "      <th>0</th>\n",
       "      <td>0.0</td>\n",
       "      <td>0.0</td>\n",
       "      <td>0.0</td>\n",
       "      <td>0.0</td>\n",
       "      <td>0.0</td>\n",
       "      <td>0.0</td>\n",
       "      <td>0.0</td>\n",
       "      <td>0.0</td>\n",
       "      <td>0.0</td>\n",
       "      <td>0.0</td>\n",
       "      <td>...</td>\n",
       "      <td>0.0</td>\n",
       "      <td>0.0</td>\n",
       "      <td>0.0</td>\n",
       "      <td>0.0</td>\n",
       "      <td>0.0</td>\n",
       "      <td>0.0</td>\n",
       "      <td>0.0</td>\n",
       "      <td>0.0</td>\n",
       "      <td>0.0</td>\n",
       "      <td>0.0</td>\n",
       "    </tr>\n",
       "    <tr>\n",
       "      <th>1</th>\n",
       "      <td>0.0</td>\n",
       "      <td>0.0</td>\n",
       "      <td>0.0</td>\n",
       "      <td>0.0</td>\n",
       "      <td>0.0</td>\n",
       "      <td>0.0</td>\n",
       "      <td>0.0</td>\n",
       "      <td>0.0</td>\n",
       "      <td>0.0</td>\n",
       "      <td>0.0</td>\n",
       "      <td>...</td>\n",
       "      <td>0.0</td>\n",
       "      <td>0.0</td>\n",
       "      <td>0.0</td>\n",
       "      <td>0.0</td>\n",
       "      <td>0.0</td>\n",
       "      <td>0.0</td>\n",
       "      <td>0.0</td>\n",
       "      <td>0.0</td>\n",
       "      <td>0.0</td>\n",
       "      <td>0.0</td>\n",
       "    </tr>\n",
       "    <tr>\n",
       "      <th>2</th>\n",
       "      <td>0.0</td>\n",
       "      <td>0.0</td>\n",
       "      <td>0.0</td>\n",
       "      <td>0.0</td>\n",
       "      <td>0.0</td>\n",
       "      <td>0.0</td>\n",
       "      <td>0.0</td>\n",
       "      <td>0.0</td>\n",
       "      <td>0.0</td>\n",
       "      <td>0.0</td>\n",
       "      <td>...</td>\n",
       "      <td>0.0</td>\n",
       "      <td>0.0</td>\n",
       "      <td>0.0</td>\n",
       "      <td>0.0</td>\n",
       "      <td>0.0</td>\n",
       "      <td>0.0</td>\n",
       "      <td>0.0</td>\n",
       "      <td>0.0</td>\n",
       "      <td>0.0</td>\n",
       "      <td>0.0</td>\n",
       "    </tr>\n",
       "    <tr>\n",
       "      <th>3</th>\n",
       "      <td>0.0</td>\n",
       "      <td>0.0</td>\n",
       "      <td>0.0</td>\n",
       "      <td>0.0</td>\n",
       "      <td>0.0</td>\n",
       "      <td>0.0</td>\n",
       "      <td>0.0</td>\n",
       "      <td>0.0</td>\n",
       "      <td>0.0</td>\n",
       "      <td>0.0</td>\n",
       "      <td>...</td>\n",
       "      <td>0.0</td>\n",
       "      <td>0.0</td>\n",
       "      <td>0.0</td>\n",
       "      <td>0.0</td>\n",
       "      <td>0.0</td>\n",
       "      <td>0.0</td>\n",
       "      <td>0.0</td>\n",
       "      <td>0.0</td>\n",
       "      <td>0.0</td>\n",
       "      <td>0.0</td>\n",
       "    </tr>\n",
       "    <tr>\n",
       "      <th>4</th>\n",
       "      <td>0.0</td>\n",
       "      <td>0.0</td>\n",
       "      <td>0.0</td>\n",
       "      <td>0.0</td>\n",
       "      <td>0.0</td>\n",
       "      <td>0.0</td>\n",
       "      <td>0.0</td>\n",
       "      <td>0.0</td>\n",
       "      <td>0.0</td>\n",
       "      <td>0.0</td>\n",
       "      <td>...</td>\n",
       "      <td>0.0</td>\n",
       "      <td>0.0</td>\n",
       "      <td>0.0</td>\n",
       "      <td>0.0</td>\n",
       "      <td>0.0</td>\n",
       "      <td>0.0</td>\n",
       "      <td>0.0</td>\n",
       "      <td>0.0</td>\n",
       "      <td>0.0</td>\n",
       "      <td>0.0</td>\n",
       "    </tr>\n",
       "    <tr>\n",
       "      <th>...</th>\n",
       "      <td>...</td>\n",
       "      <td>...</td>\n",
       "      <td>...</td>\n",
       "      <td>...</td>\n",
       "      <td>...</td>\n",
       "      <td>...</td>\n",
       "      <td>...</td>\n",
       "      <td>...</td>\n",
       "      <td>...</td>\n",
       "      <td>...</td>\n",
       "      <td>...</td>\n",
       "      <td>...</td>\n",
       "      <td>...</td>\n",
       "      <td>...</td>\n",
       "      <td>...</td>\n",
       "      <td>...</td>\n",
       "      <td>...</td>\n",
       "      <td>...</td>\n",
       "      <td>...</td>\n",
       "      <td>...</td>\n",
       "      <td>...</td>\n",
       "    </tr>\n",
       "    <tr>\n",
       "      <th>19991</th>\n",
       "      <td>0.0</td>\n",
       "      <td>0.0</td>\n",
       "      <td>0.0</td>\n",
       "      <td>0.0</td>\n",
       "      <td>0.0</td>\n",
       "      <td>0.0</td>\n",
       "      <td>0.0</td>\n",
       "      <td>0.0</td>\n",
       "      <td>0.0</td>\n",
       "      <td>0.0</td>\n",
       "      <td>...</td>\n",
       "      <td>0.0</td>\n",
       "      <td>0.0</td>\n",
       "      <td>0.0</td>\n",
       "      <td>0.0</td>\n",
       "      <td>0.0</td>\n",
       "      <td>0.0</td>\n",
       "      <td>0.0</td>\n",
       "      <td>0.0</td>\n",
       "      <td>0.0</td>\n",
       "      <td>0.0</td>\n",
       "    </tr>\n",
       "    <tr>\n",
       "      <th>19992</th>\n",
       "      <td>0.0</td>\n",
       "      <td>0.0</td>\n",
       "      <td>0.0</td>\n",
       "      <td>0.0</td>\n",
       "      <td>0.0</td>\n",
       "      <td>0.0</td>\n",
       "      <td>0.0</td>\n",
       "      <td>0.0</td>\n",
       "      <td>0.0</td>\n",
       "      <td>0.0</td>\n",
       "      <td>...</td>\n",
       "      <td>0.0</td>\n",
       "      <td>0.0</td>\n",
       "      <td>0.0</td>\n",
       "      <td>0.0</td>\n",
       "      <td>0.0</td>\n",
       "      <td>0.0</td>\n",
       "      <td>0.0</td>\n",
       "      <td>0.0</td>\n",
       "      <td>0.0</td>\n",
       "      <td>0.0</td>\n",
       "    </tr>\n",
       "    <tr>\n",
       "      <th>19993</th>\n",
       "      <td>0.0</td>\n",
       "      <td>0.0</td>\n",
       "      <td>0.0</td>\n",
       "      <td>0.0</td>\n",
       "      <td>0.0</td>\n",
       "      <td>0.0</td>\n",
       "      <td>0.0</td>\n",
       "      <td>0.0</td>\n",
       "      <td>0.0</td>\n",
       "      <td>0.0</td>\n",
       "      <td>...</td>\n",
       "      <td>0.0</td>\n",
       "      <td>0.0</td>\n",
       "      <td>0.0</td>\n",
       "      <td>0.0</td>\n",
       "      <td>0.0</td>\n",
       "      <td>0.0</td>\n",
       "      <td>0.0</td>\n",
       "      <td>0.0</td>\n",
       "      <td>0.0</td>\n",
       "      <td>0.0</td>\n",
       "    </tr>\n",
       "    <tr>\n",
       "      <th>19994</th>\n",
       "      <td>0.0</td>\n",
       "      <td>0.0</td>\n",
       "      <td>0.0</td>\n",
       "      <td>0.0</td>\n",
       "      <td>0.0</td>\n",
       "      <td>0.0</td>\n",
       "      <td>0.0</td>\n",
       "      <td>0.0</td>\n",
       "      <td>0.0</td>\n",
       "      <td>0.0</td>\n",
       "      <td>...</td>\n",
       "      <td>0.0</td>\n",
       "      <td>0.0</td>\n",
       "      <td>0.0</td>\n",
       "      <td>0.0</td>\n",
       "      <td>0.0</td>\n",
       "      <td>0.0</td>\n",
       "      <td>0.0</td>\n",
       "      <td>0.0</td>\n",
       "      <td>0.0</td>\n",
       "      <td>0.0</td>\n",
       "    </tr>\n",
       "    <tr>\n",
       "      <th>19995</th>\n",
       "      <td>0.0</td>\n",
       "      <td>0.0</td>\n",
       "      <td>0.0</td>\n",
       "      <td>0.0</td>\n",
       "      <td>0.0</td>\n",
       "      <td>0.0</td>\n",
       "      <td>0.0</td>\n",
       "      <td>0.0</td>\n",
       "      <td>0.0</td>\n",
       "      <td>0.0</td>\n",
       "      <td>...</td>\n",
       "      <td>0.0</td>\n",
       "      <td>0.0</td>\n",
       "      <td>0.0</td>\n",
       "      <td>0.0</td>\n",
       "      <td>0.0</td>\n",
       "      <td>0.0</td>\n",
       "      <td>0.0</td>\n",
       "      <td>0.0</td>\n",
       "      <td>0.0</td>\n",
       "      <td>0.0</td>\n",
       "    </tr>\n",
       "  </tbody>\n",
       "</table>\n",
       "<p>19996 rows × 20880 columns</p>\n",
       "</div>"
      ],
      "text/plain": [
       "        aa  aac  aagloorp  aah  aahowever  aaliyah  aammazinng  aapp  \\\n",
       "0      0.0  0.0       0.0  0.0        0.0      0.0         0.0   0.0   \n",
       "1      0.0  0.0       0.0  0.0        0.0      0.0         0.0   0.0   \n",
       "2      0.0  0.0       0.0  0.0        0.0      0.0         0.0   0.0   \n",
       "3      0.0  0.0       0.0  0.0        0.0      0.0         0.0   0.0   \n",
       "4      0.0  0.0       0.0  0.0        0.0      0.0         0.0   0.0   \n",
       "...    ...  ...       ...  ...        ...      ...         ...   ...   \n",
       "19991  0.0  0.0       0.0  0.0        0.0      0.0         0.0   0.0   \n",
       "19992  0.0  0.0       0.0  0.0        0.0      0.0         0.0   0.0   \n",
       "19993  0.0  0.0       0.0  0.0        0.0      0.0         0.0   0.0   \n",
       "19994  0.0  0.0       0.0  0.0        0.0      0.0         0.0   0.0   \n",
       "19995  0.0  0.0       0.0  0.0        0.0      0.0         0.0   0.0   \n",
       "\n",
       "       aardvark  aarp  ...  zomg  zone  zoo  zoology  zoom  zoomed  zooming  \\\n",
       "0           0.0   0.0  ...   0.0   0.0  0.0      0.0   0.0     0.0      0.0   \n",
       "1           0.0   0.0  ...   0.0   0.0  0.0      0.0   0.0     0.0      0.0   \n",
       "2           0.0   0.0  ...   0.0   0.0  0.0      0.0   0.0     0.0      0.0   \n",
       "3           0.0   0.0  ...   0.0   0.0  0.0      0.0   0.0     0.0      0.0   \n",
       "4           0.0   0.0  ...   0.0   0.0  0.0      0.0   0.0     0.0      0.0   \n",
       "...         ...   ...  ...   ...   ...  ...      ...   ...     ...      ...   \n",
       "19991       0.0   0.0  ...   0.0   0.0  0.0      0.0   0.0     0.0      0.0   \n",
       "19992       0.0   0.0  ...   0.0   0.0  0.0      0.0   0.0     0.0      0.0   \n",
       "19993       0.0   0.0  ...   0.0   0.0  0.0      0.0   0.0     0.0      0.0   \n",
       "19994       0.0   0.0  ...   0.0   0.0  0.0      0.0   0.0     0.0      0.0   \n",
       "19995       0.0   0.0  ...   0.0   0.0  0.0      0.0   0.0     0.0      0.0   \n",
       "\n",
       "       zpg  zumocast   zz  \n",
       "0      0.0       0.0  0.0  \n",
       "1      0.0       0.0  0.0  \n",
       "2      0.0       0.0  0.0  \n",
       "3      0.0       0.0  0.0  \n",
       "4      0.0       0.0  0.0  \n",
       "...    ...       ...  ...  \n",
       "19991  0.0       0.0  0.0  \n",
       "19992  0.0       0.0  0.0  \n",
       "19993  0.0       0.0  0.0  \n",
       "19994  0.0       0.0  0.0  \n",
       "19995  0.0       0.0  0.0  \n",
       "\n",
       "[19996 rows x 20880 columns]"
      ]
     },
     "execution_count": 39,
     "metadata": {},
     "output_type": "execute_result"
    }
   ],
   "source": [
    "data_tf_idf = pd.DataFrame(features_tfidf.toarray(), columns=count_tf_idf.get_feature_names_out())\n",
    "data_tf_idf"
   ]
  },
  {
   "cell_type": "code",
   "execution_count": 40,
   "metadata": {},
   "outputs": [
    {
     "data": {
      "text/plain": [
       "(19996, 20880)"
      ]
     },
     "execution_count": 40,
     "metadata": {},
     "output_type": "execute_result"
    }
   ],
   "source": [
    "# ukuran features\n",
    "features_tfidf.shape"
   ]
  },
  {
   "cell_type": "markdown",
   "metadata": {},
   "source": [
    "## Resampling dengan SMOTE\n",
    "\n",
    "Karena terdapat imbalance class pada dataset, maka kita akan melakukan teknik resampling menggunakan SMOTE. dimana teknik tersebut melakukan resampling kelas minoritas agar banyaknya menjadi sama dengan kelas mayoritas."
   ]
  },
  {
   "cell_type": "code",
   "execution_count": 41,
   "metadata": {},
   "outputs": [],
   "source": [
    "# Menerapkan SMOTE untuk oversampling\n",
    "smote = SMOTE(random_state=404)\n",
    "\n",
    "X_resampled, y_resampled = smote.fit_resample(features_tfidf, target)"
   ]
  },
  {
   "cell_type": "code",
   "execution_count": 42,
   "metadata": {},
   "outputs": [
    {
     "data": {
      "image/png": "[encoded data removed]",
      "text/plain": [
       "<Figure size 800x500 with 1 Axes>"
      ]
     },
     "metadata": {},
     "output_type": "display_data"
    }
   ],
   "source": [
    "sns.set_theme(style='darkgrid')\n",
    "\n",
    "plt.figure(figsize=(8,5))\n",
    "ax = sns.countplot(x=y_resampled,  palette='viridis')\n",
    "\n",
    "for bar in ax.patches:\n",
    "    height = bar.get_height()\n",
    "    ax.annotate(f'{height / len(y_resampled) * 100:.2f}%',\n",
    "                (bar.get_x() + bar.get_width() / 2, height),\n",
    "                ha='center', va='center', size=10, xytext=(0, 10),\n",
    "                textcoords='offset points')\n",
    "    \n",
    "plt.title('Jumlah Sentimen Positive dan Positive', size=14, fontweight='bold')\n",
    "plt.ylim(0, 17000)\n",
    "plt.xlabel('Sentimen')\n",
    "plt.xticks(ticks=[0,1], labels=['Negative','Positive'])\n",
    "plt.show()"
   ]
  },
  {
   "cell_type": "markdown",
   "metadata": {},
   "source": [
    "## Splitting Data"
   ]
  },
  {
   "cell_type": "code",
   "execution_count": 43,
   "metadata": {},
   "outputs": [],
   "source": [
    "# splitting data 75:25\n",
    "features_train_ml, features_test_ml, target_train_ml, target_test_ml = train_test_split(X_resampled, y_resampled, random_state=404, test_size=0.25)"
   ]
  },
  {
   "cell_type": "markdown",
   "metadata": {},
   "source": [
    "## Modeling"
   ]
  },
  {
   "cell_type": "code",
   "execution_count": 44,
   "metadata": {},
   "outputs": [
    {
     "name": "stdout",
     "output_type": "stream",
     "text": [
      "              precision    recall  f1-score   support\n",
      "\n",
      "           0       0.89      0.90      0.90      3775\n",
      "           1       0.90      0.89      0.90      3840\n",
      "\n",
      "    accuracy                           0.90      7615\n",
      "   macro avg       0.90      0.90      0.90      7615\n",
      "weighted avg       0.90      0.90      0.90      7615\n",
      "\n"
     ]
    }
   ],
   "source": [
    "nb = MultinomialNB()\n",
    "\n",
    "nb.fit(features_train_ml, target_train_ml)\n",
    "\n",
    "target_pred = nb.predict(features_test_ml)\n",
    "print(classification_report(target_test_ml, target_pred))"
   ]
  },
  {
   "cell_type": "markdown",
   "metadata": {},
   "source": [
    "Dengan menggunakan model machine learning dengan algoritma Multinomial Naive Bayes kita mendapatkan nilai akurasi untuk sentimen analisis amazon review sebesar 90% dan presisi recall juga diangka 90%. Selanjutnya kita akan mencoba membuat model dengan neural network\n"
   ]
  },
  {
   "cell_type": "markdown",
   "metadata": {},
   "source": [
    "# Membangun Model Neural Network"
   ]
  },
  {
   "cell_type": "code",
   "execution_count": 45,
   "metadata": {},
   "outputs": [
    {
     "name": "stdout",
     "output_type": "stream",
     "text": [
      "jumlah total kata = 672842, dengan ukuran vocabulary = 21032\n",
      "Panjang maksimum kalimat adalah 254\n"
     ]
    }
   ],
   "source": [
    "# menghitung jumlah kata dan kalimat\n",
    "all_words = [word for tokens in features.str.split() for word in tokens]\n",
    "sentence_lengths = [len(tokens) for tokens in features]\n",
    "VOCAB = sorted(list(set(all_words)))\n",
    "print(f\"jumlah total kata = {len(all_words)}, dengan ukuran vocabulary = {len(VOCAB)}\")\n",
    "print(f\"Panjang maksimum kalimat adalah {max(sentence_lengths)}\")"
   ]
  },
  {
   "cell_type": "markdown",
   "metadata": {},
   "source": [
    "## Tokenizer"
   ]
  },
  {
   "cell_type": "code",
   "execution_count": 50,
   "metadata": {},
   "outputs": [
    {
     "name": "stdout",
     "output_type": "stream",
     "text": [
      "Jumlah token unik: 21032\n"
     ]
    }
   ],
   "source": [
    "MAX_NB_WORDS = 50000\n",
    "MAX_SEQUENCE_LENGTH = 254\n",
    "EMBEDDING_DIM = 100\n",
    "tokenizer = Tokenizer(num_words=MAX_NB_WORDS)\n",
    "tokenizer.fit_on_texts(features.values)\n",
    "word_index = tokenizer.word_index\n",
    "print(f'Jumlah token unik: {len(word_index)}')"
   ]
  },
  {
   "cell_type": "code",
   "execution_count": 56,
   "metadata": {},
   "outputs": [
    {
     "name": "stdout",
     "output_type": "stream",
     "text": [
      "Ukuran data tensor: (19996, 254)\n"
     ]
    }
   ],
   "source": [
    "X = tokenizer.texts_to_sequences(features.values)\n",
    "# padding\n",
    "X_padded = pad_sequences(X, maxlen=MAX_SEQUENCE_LENGTH)\n",
    "print(f'Ukuran data tensor: {X_padded.shape}')"
   ]
  },
  {
   "cell_type": "markdown",
   "metadata": {},
   "source": [
    "## SMOTE"
   ]
  },
  {
   "cell_type": "code",
   "execution_count": 59,
   "metadata": {},
   "outputs": [
    {
     "name": "stdout",
     "output_type": "stream",
     "text": [
      "Ukuran setelah smote: (30460, 254)\n"
     ]
    }
   ],
   "source": [
    "X_resampled_nn, y_resampled_nn = smote.fit_resample(X_padded, target)\n",
    "print(f'Ukuran setelah smote: {X_resampled_nn.shape}')"
   ]
  },
  {
   "cell_type": "code",
   "execution_count": 132,
   "metadata": {},
   "outputs": [
    {
     "data": {
      "text/plain": [
       "(30460, 2)"
      ]
     },
     "execution_count": 132,
     "metadata": {},
     "output_type": "execute_result"
    }
   ],
   "source": [
    "# fungsi untuk encoding OHE pada label\n",
    "def oneHotEncode(listArray):\n",
    "  s = (len(listArray),len(np.unique(listArray)))\n",
    "  tempData = np.zeros(s)\n",
    "  for i in range(len(listArray)):\n",
    "    if listArray[i] == 1:\n",
    "      tempData[i][1] = 1\n",
    "    elif listArray[i] == 0:\n",
    "      tempData[i][0] = 1\n",
    "  return tempData\n",
    "\n",
    "# OHE untuk label/target\n",
    "Y = oneHotEncode(y_resampled_nn)\n",
    "Y.shape"
   ]
  },
  {
   "cell_type": "markdown",
   "metadata": {},
   "source": [
    "## Splitting Data"
   ]
  },
  {
   "cell_type": "code",
   "execution_count": 144,
   "metadata": {},
   "outputs": [],
   "source": [
    "# splitting data 75:25\n",
    "features_train_nn, features_test_nn, target_train_nn, target_test_nn = train_test_split(X_resampled_nn, Y, \n",
    "                                                                                         random_state=404, \n",
    "                                                                                         test_size=0.25)"
   ]
  },
  {
   "cell_type": "markdown",
   "metadata": {},
   "source": [
    "## Modeling LSTM"
   ]
  },
  {
   "cell_type": "code",
   "execution_count": 134,
   "metadata": {},
   "outputs": [],
   "source": [
    "# fungsi yang digunakan untuk menghitung f1_score\n",
    "def get_f1(y_true, y_pred): #taken from old keras source code\n",
    "    true_positives = K.sum(K.round(K.clip(y_true * y_pred, 0, 1)))\n",
    "    possible_positives = K.sum(K.round(K.clip(y_true, 0, 1)))\n",
    "    predicted_positives = K.sum(K.round(K.clip(y_pred, 0, 1)))\n",
    "    precision = true_positives / (predicted_positives + K.epsilon())\n",
    "    recall = true_positives / (possible_positives + K.epsilon())\n",
    "    f1_val = 2*(precision*recall)/(precision+recall+K.epsilon())\n",
    "    return f1_val\n",
    "\n",
    "METRICS = [\n",
    "    tf.keras.metrics.TruePositives(name='TP'),\n",
    "    tf.keras.metrics.FalsePositives(name='FP'),\n",
    "    tf.keras.metrics.TrueNegatives(name='TN'),\n",
    "    tf.keras.metrics.FalseNegatives(name='FN'),\n",
    "    tf.keras.metrics.CategoricalAccuracy(name='Acc'),\n",
    "    tf.keras.metrics.Precision(name='Precision'),\n",
    "    tf.keras.metrics.Recall(name='Recall'),\n",
    "    tf.keras.metrics.AUC(name='ROC-AUC'),\n",
    "    get_f1\n",
    "]"
   ]
  },
  {
   "cell_type": "code",
   "execution_count": 135,
   "metadata": {},
   "outputs": [],
   "source": [
    "# membangun model\n",
    "model = Sequential()\n",
    "model.add(Embedding(input_dim=MAX_NB_WORDS, output_dim=EMBEDDING_DIM, input_length=features_train_nn.shape[1]))\n",
    "model.add(SpatialDropout1D(0.2))\n",
    "model.add(LSTM(100, dropout=0.2, recurrent_dropout=0.2))\n",
    "model.add(Dense(64, activation='relu'))\n",
    "model.add(Dense(2, activation='softmax'))\n",
    "# compile model\n",
    "model.compile(loss='categorical_crossentropy', optimizer='adam', metrics=METRICS)\n"
   ]
  },
  {
   "cell_type": "code",
   "execution_count": 136,
   "metadata": {},
   "outputs": [
    {
     "data": {
      "text/html": [
       "<pre style=\"white-space:pre;overflow-x:auto;line-height:normal;font-family:Menlo,'DejaVu Sans Mono',consolas,'Courier New',monospace\"><span style=\"font-weight: bold\">Model: \"sequential_15\"</span>\n",
       "</pre>\n"
      ],
      "text/plain": [
       "\u001b[1mModel: \"sequential_15\"\u001b[0m\n"
      ]
     },
     "metadata": {},
     "output_type": "display_data"
    },
    {
     "data": {
      "text/html": [
       "<pre style=\"white-space:pre;overflow-x:auto;line-height:normal;font-family:Menlo,'DejaVu Sans Mono',consolas,'Courier New',monospace\">┏━━━━━━━━━━━━━━━━━━━━━━━━━━━━━━━━━┳━━━━━━━━━━━━━━━━━━━━━━━━┳━━━━━━━━━━━━━━━┓\n",
       "┃<span style=\"font-weight: bold\"> Layer (type)                    </span>┃<span style=\"font-weight: bold\"> Output Shape           </span>┃<span style=\"font-weight: bold\">       Param # </span>┃\n",
       "┡━━━━━━━━━━━━━━━━━━━━━━━━━━━━━━━━━╇━━━━━━━━━━━━━━━━━━━━━━━━╇━━━━━━━━━━━━━━━┩\n",
       "│ embedding_15 (<span style=\"color: #0087ff; text-decoration-color: #0087ff\">Embedding</span>)        │ ?                      │   <span style=\"color: #00af00; text-decoration-color: #00af00\">0</span> (unbuilt) │\n",
       "├─────────────────────────────────┼────────────────────────┼───────────────┤\n",
       "│ spatial_dropout1d_10            │ ?                      │   <span style=\"color: #00af00; text-decoration-color: #00af00\">0</span> (unbuilt) │\n",
       "│ (<span style=\"color: #0087ff; text-decoration-color: #0087ff\">SpatialDropout1D</span>)              │                        │               │\n",
       "├─────────────────────────────────┼────────────────────────┼───────────────┤\n",
       "│ lstm_14 (<span style=\"color: #0087ff; text-decoration-color: #0087ff\">LSTM</span>)                  │ ?                      │   <span style=\"color: #00af00; text-decoration-color: #00af00\">0</span> (unbuilt) │\n",
       "├─────────────────────────────────┼────────────────────────┼───────────────┤\n",
       "│ dense_26 (<span style=\"color: #0087ff; text-decoration-color: #0087ff\">Dense</span>)                │ ?                      │   <span style=\"color: #00af00; text-decoration-color: #00af00\">0</span> (unbuilt) │\n",
       "├─────────────────────────────────┼────────────────────────┼───────────────┤\n",
       "│ dense_27 (<span style=\"color: #0087ff; text-decoration-color: #0087ff\">Dense</span>)                │ ?                      │   <span style=\"color: #00af00; text-decoration-color: #00af00\">0</span> (unbuilt) │\n",
       "└─────────────────────────────────┴────────────────────────┴───────────────┘\n",
       "</pre>\n"
      ],
      "text/plain": [
       "┏━━━━━━━━━━━━━━━━━━━━━━━━━━━━━━━━━┳━━━━━━━━━━━━━━━━━━━━━━━━┳━━━━━━━━━━━━━━━┓\n",
       "┃\u001b[1m \u001b[0m\u001b[1mLayer (type)                   \u001b[0m\u001b[1m \u001b[0m┃\u001b[1m \u001b[0m\u001b[1mOutput Shape          \u001b[0m\u001b[1m \u001b[0m┃\u001b[1m \u001b[0m\u001b[1m      Param #\u001b[0m\u001b[1m \u001b[0m┃\n",
       "┡━━━━━━━━━━━━━━━━━━━━━━━━━━━━━━━━━╇━━━━━━━━━━━━━━━━━━━━━━━━╇━━━━━━━━━━━━━━━┩\n",
       "│ embedding_15 (\u001b[38;5;33mEmbedding\u001b[0m)        │ ?                      │   \u001b[38;5;34m0\u001b[0m (unbuilt) │\n",
       "├─────────────────────────────────┼────────────────────────┼───────────────┤\n",
       "│ spatial_dropout1d_10            │ ?                      │   \u001b[38;5;34m0\u001b[0m (unbuilt) │\n",
       "│ (\u001b[38;5;33mSpatialDropout1D\u001b[0m)              │                        │               │\n",
       "├─────────────────────────────────┼────────────────────────┼───────────────┤\n",
       "│ lstm_14 (\u001b[38;5;33mLSTM\u001b[0m)                  │ ?                      │   \u001b[38;5;34m0\u001b[0m (unbuilt) │\n",
       "├─────────────────────────────────┼────────────────────────┼───────────────┤\n",
       "│ dense_26 (\u001b[38;5;33mDense\u001b[0m)                │ ?                      │   \u001b[38;5;34m0\u001b[0m (unbuilt) │\n",
       "├─────────────────────────────────┼────────────────────────┼───────────────┤\n",
       "│ dense_27 (\u001b[38;5;33mDense\u001b[0m)                │ ?                      │   \u001b[38;5;34m0\u001b[0m (unbuilt) │\n",
       "└─────────────────────────────────┴────────────────────────┴───────────────┘\n"
      ]
     },
     "metadata": {},
     "output_type": "display_data"
    },
    {
     "data": {
      "text/html": [
       "<pre style=\"white-space:pre;overflow-x:auto;line-height:normal;font-family:Menlo,'DejaVu Sans Mono',consolas,'Courier New',monospace\"><span style=\"font-weight: bold\"> Total params: </span><span style=\"color: #00af00; text-decoration-color: #00af00\">0</span> (0.00 B)\n",
       "</pre>\n"
      ],
      "text/plain": [
       "\u001b[1m Total params: \u001b[0m\u001b[38;5;34m0\u001b[0m (0.00 B)\n"
      ]
     },
     "metadata": {},
     "output_type": "display_data"
    },
    {
     "data": {
      "text/html": [
       "<pre style=\"white-space:pre;overflow-x:auto;line-height:normal;font-family:Menlo,'DejaVu Sans Mono',consolas,'Courier New',monospace\"><span style=\"font-weight: bold\"> Trainable params: </span><span style=\"color: #00af00; text-decoration-color: #00af00\">0</span> (0.00 B)\n",
       "</pre>\n"
      ],
      "text/plain": [
       "\u001b[1m Trainable params: \u001b[0m\u001b[38;5;34m0\u001b[0m (0.00 B)\n"
      ]
     },
     "metadata": {},
     "output_type": "display_data"
    },
    {
     "data": {
      "text/html": [
       "<pre style=\"white-space:pre;overflow-x:auto;line-height:normal;font-family:Menlo,'DejaVu Sans Mono',consolas,'Courier New',monospace\"><span style=\"font-weight: bold\"> Non-trainable params: </span><span style=\"color: #00af00; text-decoration-color: #00af00\">0</span> (0.00 B)\n",
       "</pre>\n"
      ],
      "text/plain": [
       "\u001b[1m Non-trainable params: \u001b[0m\u001b[38;5;34m0\u001b[0m (0.00 B)\n"
      ]
     },
     "metadata": {},
     "output_type": "display_data"
    }
   ],
   "source": [
    "model.summary()"
   ]
  },
  {
   "cell_type": "code",
   "execution_count": 137,
   "metadata": {},
   "outputs": [
    {
     "name": "stdout",
     "output_type": "stream",
     "text": [
      "Epoch 1/20\n",
      "643/643 - 76s - 118ms/step - Acc: 0.7653 - FN: 4825.0000 - FP: 4825.0000 - Precision: 0.7653 - ROC-AUC: 0.8433 - Recall: 0.7653 - TN: 15735.0000 - TP: 15735.0000 - get_f1: 0.7652 - loss: 0.4917 - val_Acc: 0.8053 - val_FN: 445.0000 - val_FP: 445.0000 - val_Precision: 0.8053 - val_ROC-AUC: 0.8860 - val_Recall: 0.8053 - val_TN: 1840.0000 - val_TP: 1840.0000 - val_get_f1: 0.8037 - val_loss: 0.4279\n",
      "Epoch 2/20\n",
      "643/643 - 79s - 123ms/step - Acc: 0.8602 - FN: 2874.0000 - FP: 2874.0000 - Precision: 0.8602 - ROC-AUC: 0.9338 - Recall: 0.8602 - TN: 17686.0000 - TP: 17686.0000 - get_f1: 0.8602 - loss: 0.3286 - val_Acc: 0.8477 - val_FN: 348.0000 - val_FP: 348.0000 - val_Precision: 0.8477 - val_ROC-AUC: 0.9197 - val_Recall: 0.8477 - val_TN: 1937.0000 - val_TP: 1937.0000 - val_get_f1: 0.8471 - val_loss: 0.3616\n",
      "Epoch 3/20\n",
      "643/643 - 73s - 114ms/step - Acc: 0.9143 - FN: 1762.0000 - FP: 1762.0000 - Precision: 0.9143 - ROC-AUC: 0.9720 - Recall: 0.9143 - TN: 18798.0000 - TP: 18798.0000 - get_f1: 0.9142 - loss: 0.2137 - val_Acc: 0.8626 - val_FN: 314.0000 - val_FP: 314.0000 - val_Precision: 0.8626 - val_ROC-AUC: 0.9315 - val_Recall: 0.8626 - val_TN: 1971.0000 - val_TP: 1971.0000 - val_get_f1: 0.8624 - val_loss: 0.3406\n",
      "Epoch 4/20\n",
      "643/643 - 73s - 113ms/step - Acc: 0.9456 - FN: 1118.0000 - FP: 1118.0000 - Precision: 0.9456 - ROC-AUC: 0.9872 - Recall: 0.9456 - TN: 19442.0000 - TP: 19442.0000 - get_f1: 0.9457 - loss: 0.1430 - val_Acc: 0.8853 - val_FN: 262.0000 - val_FP: 262.0000 - val_Precision: 0.8853 - val_ROC-AUC: 0.9461 - val_Recall: 0.8853 - val_TN: 2023.0000 - val_TP: 2023.0000 - val_get_f1: 0.8850 - val_loss: 0.3500\n",
      "Epoch 5/20\n",
      "643/643 - 75s - 117ms/step - Acc: 0.9618 - FN: 786.0000 - FP: 786.0000 - Precision: 0.9618 - ROC-AUC: 0.9933 - Recall: 0.9618 - TN: 19774.0000 - TP: 19774.0000 - get_f1: 0.9618 - loss: 0.1017 - val_Acc: 0.8832 - val_FN: 267.0000 - val_FP: 267.0000 - val_Precision: 0.8832 - val_ROC-AUC: 0.9442 - val_Recall: 0.8832 - val_TN: 2018.0000 - val_TP: 2018.0000 - val_get_f1: 0.8828 - val_loss: 0.3810\n",
      "Epoch 6/20\n",
      "643/643 - 73s - 114ms/step - Acc: 0.9707 - FN: 603.0000 - FP: 603.0000 - Precision: 0.9707 - ROC-AUC: 0.9961 - Recall: 0.9707 - TN: 19957.0000 - TP: 19957.0000 - get_f1: 0.9706 - loss: 0.0751 - val_Acc: 0.8779 - val_FN: 279.0000 - val_FP: 279.0000 - val_Precision: 0.8779 - val_ROC-AUC: 0.9441 - val_Recall: 0.8779 - val_TN: 2006.0000 - val_TP: 2006.0000 - val_get_f1: 0.8776 - val_loss: 0.4044\n",
      "Epoch 7/20\n",
      "643/643 - 72s - 112ms/step - Acc: 0.9782 - FN: 449.0000 - FP: 449.0000 - Precision: 0.9782 - ROC-AUC: 0.9970 - Recall: 0.9782 - TN: 20111.0000 - TP: 20111.0000 - get_f1: 0.9782 - loss: 0.0614 - val_Acc: 0.8832 - val_FN: 267.0000 - val_FP: 267.0000 - val_Precision: 0.8832 - val_ROC-AUC: 0.9448 - val_Recall: 0.8832 - val_TN: 2018.0000 - val_TP: 2018.0000 - val_get_f1: 0.8816 - val_loss: 0.3855\n",
      "Epoch 8/20\n",
      "643/643 - 74s - 115ms/step - Acc: 0.9832 - FN: 346.0000 - FP: 346.0000 - Precision: 0.9832 - ROC-AUC: 0.9982 - Recall: 0.9832 - TN: 20214.0000 - TP: 20214.0000 - get_f1: 0.9832 - loss: 0.0469 - val_Acc: 0.8902 - val_FN: 251.0000 - val_FP: 251.0000 - val_Precision: 0.8902 - val_ROC-AUC: 0.9416 - val_Recall: 0.8902 - val_TN: 2034.0000 - val_TP: 2034.0000 - val_get_f1: 0.8898 - val_loss: 0.4489\n",
      "Epoch 9/20\n",
      "643/643 - 75s - 117ms/step - Acc: 0.9868 - FN: 272.0000 - FP: 272.0000 - Precision: 0.9868 - ROC-AUC: 0.9987 - Recall: 0.9868 - TN: 20288.0000 - TP: 20288.0000 - get_f1: 0.9868 - loss: 0.0366 - val_Acc: 0.8928 - val_FN: 245.0000 - val_FP: 245.0000 - val_Precision: 0.8928 - val_ROC-AUC: 0.9400 - val_Recall: 0.8928 - val_TN: 2040.0000 - val_TP: 2040.0000 - val_get_f1: 0.8930 - val_loss: 0.4580\n",
      "Epoch 10/20\n",
      "643/643 - 73s - 114ms/step - Acc: 0.9902 - FN: 202.0000 - FP: 202.0000 - Precision: 0.9902 - ROC-AUC: 0.9991 - Recall: 0.9902 - TN: 20358.0000 - TP: 20358.0000 - get_f1: 0.9902 - loss: 0.0293 - val_Acc: 0.8853 - val_FN: 262.0000 - val_FP: 262.0000 - val_Precision: 0.8853 - val_ROC-AUC: 0.9411 - val_Recall: 0.8853 - val_TN: 2023.0000 - val_TP: 2023.0000 - val_get_f1: 0.8850 - val_loss: 0.4554\n",
      "Epoch 11/20\n",
      "643/643 - 72s - 111ms/step - Acc: 0.9899 - FN: 207.0000 - FP: 207.0000 - Precision: 0.9899 - ROC-AUC: 0.9992 - Recall: 0.9899 - TN: 20353.0000 - TP: 20353.0000 - get_f1: 0.9899 - loss: 0.0287 - val_Acc: 0.8880 - val_FN: 256.0000 - val_FP: 256.0000 - val_Precision: 0.8880 - val_ROC-AUC: 0.9388 - val_Recall: 0.8880 - val_TN: 2029.0000 - val_TP: 2029.0000 - val_get_f1: 0.8883 - val_loss: 0.4805\n",
      "Epoch 12/20\n",
      "643/643 - 74s - 115ms/step - Acc: 0.9921 - FN: 163.0000 - FP: 163.0000 - Precision: 0.9921 - ROC-AUC: 0.9992 - Recall: 0.9921 - TN: 20397.0000 - TP: 20397.0000 - get_f1: 0.9921 - loss: 0.0243 - val_Acc: 0.8902 - val_FN: 251.0000 - val_FP: 251.0000 - val_Precision: 0.8902 - val_ROC-AUC: 0.9388 - val_Recall: 0.8902 - val_TN: 2034.0000 - val_TP: 2034.0000 - val_get_f1: 0.8904 - val_loss: 0.5091\n",
      "Epoch 13/20\n",
      "643/643 - 75s - 117ms/step - Acc: 0.9929 - FN: 147.0000 - FP: 147.0000 - Precision: 0.9929 - ROC-AUC: 0.9995 - Recall: 0.9929 - TN: 20413.0000 - TP: 20413.0000 - get_f1: 0.9928 - loss: 0.0202 - val_Acc: 0.8661 - val_FN: 306.0000 - val_FP: 306.0000 - val_Precision: 0.8661 - val_ROC-AUC: 0.9245 - val_Recall: 0.8661 - val_TN: 1979.0000 - val_TP: 1979.0000 - val_get_f1: 0.8653 - val_loss: 0.5834\n",
      "Epoch 14/20\n",
      "643/643 - 72s - 113ms/step - Acc: 0.9941 - FN: 121.0000 - FP: 121.0000 - Precision: 0.9941 - ROC-AUC: 0.9995 - Recall: 0.9941 - TN: 20439.0000 - TP: 20439.0000 - get_f1: 0.9941 - loss: 0.0173 - val_Acc: 0.8950 - val_FN: 240.0000 - val_FP: 240.0000 - val_Precision: 0.8950 - val_ROC-AUC: 0.9387 - val_Recall: 0.8950 - val_TN: 2045.0000 - val_TP: 2045.0000 - val_get_f1: 0.8946 - val_loss: 0.4903\n",
      "Epoch 15/20\n",
      "643/643 - 73s - 113ms/step - Acc: 0.9953 - FN: 96.0000 - FP: 96.0000 - Precision: 0.9953 - ROC-AUC: 0.9995 - Recall: 0.9953 - TN: 20464.0000 - TP: 20464.0000 - get_f1: 0.9953 - loss: 0.0143 - val_Acc: 0.8888 - val_FN: 254.0000 - val_FP: 254.0000 - val_Precision: 0.8888 - val_ROC-AUC: 0.9348 - val_Recall: 0.8888 - val_TN: 2031.0000 - val_TP: 2031.0000 - val_get_f1: 0.8885 - val_loss: 0.5760\n",
      "Epoch 16/20\n",
      "643/643 - 72s - 112ms/step - Acc: 0.9950 - FN: 103.0000 - FP: 103.0000 - Precision: 0.9950 - ROC-AUC: 0.9996 - Recall: 0.9950 - TN: 20457.0000 - TP: 20457.0000 - get_f1: 0.9950 - loss: 0.0150 - val_Acc: 0.8941 - val_FN: 242.0000 - val_FP: 242.0000 - val_Precision: 0.8941 - val_ROC-AUC: 0.9413 - val_Recall: 0.8941 - val_TN: 2043.0000 - val_TP: 2043.0000 - val_get_f1: 0.8943 - val_loss: 0.5072\n",
      "Epoch 17/20\n",
      "643/643 - 72s - 112ms/step - Acc: 0.9958 - FN: 87.0000 - FP: 87.0000 - Precision: 0.9958 - ROC-AUC: 0.9997 - Recall: 0.9958 - TN: 20473.0000 - TP: 20473.0000 - get_f1: 0.9958 - loss: 0.0134 - val_Acc: 0.9007 - val_FN: 227.0000 - val_FP: 227.0000 - val_Precision: 0.9007 - val_ROC-AUC: 0.9418 - val_Recall: 0.9007 - val_TN: 2058.0000 - val_TP: 2058.0000 - val_get_f1: 0.8996 - val_loss: 0.5307\n",
      "Epoch 18/20\n",
      "643/643 - 73s - 113ms/step - Acc: 0.9967 - FN: 68.0000 - FP: 68.0000 - Precision: 0.9967 - ROC-AUC: 0.9999 - Recall: 0.9967 - TN: 20492.0000 - TP: 20492.0000 - get_f1: 0.9967 - loss: 0.0107 - val_Acc: 0.8893 - val_FN: 253.0000 - val_FP: 253.0000 - val_Precision: 0.8893 - val_ROC-AUC: 0.9369 - val_Recall: 0.8893 - val_TN: 2032.0000 - val_TP: 2032.0000 - val_get_f1: 0.8883 - val_loss: 0.5741\n",
      "Epoch 19/20\n",
      "643/643 - 72s - 112ms/step - Acc: 0.9968 - FN: 65.0000 - FP: 65.0000 - Precision: 0.9968 - ROC-AUC: 0.9998 - Recall: 0.9968 - TN: 20495.0000 - TP: 20495.0000 - get_f1: 0.9968 - loss: 0.0093 - val_Acc: 0.8888 - val_FN: 254.0000 - val_FP: 254.0000 - val_Precision: 0.8888 - val_ROC-AUC: 0.9316 - val_Recall: 0.8888 - val_TN: 2031.0000 - val_TP: 2031.0000 - val_get_f1: 0.8879 - val_loss: 0.6144\n",
      "Epoch 20/20\n",
      "643/643 - 73s - 114ms/step - Acc: 0.9967 - FN: 68.0000 - FP: 68.0000 - Precision: 0.9967 - ROC-AUC: 0.9998 - Recall: 0.9967 - TN: 20492.0000 - TP: 20492.0000 - get_f1: 0.9967 - loss: 0.0103 - val_Acc: 0.8919 - val_FN: 247.0000 - val_FP: 247.0000 - val_Precision: 0.8919 - val_ROC-AUC: 0.9321 - val_Recall: 0.8919 - val_TN: 2038.0000 - val_TP: 2038.0000 - val_get_f1: 0.8909 - val_loss: 0.5872\n"
     ]
    }
   ],
   "source": [
    "# epoch sebanyak 20 kali\n",
    "num_epochs = 20\n",
    "batch_size = 32\n",
    "\n",
    "model_hist = model.fit(features_train_nn, target_train_nn,\n",
    "                       epochs=num_epochs, validation_split=0.1,\n",
    "                       batch_size=batch_size,\n",
    "                       verbose=2)"
   ]
  },
  {
   "cell_type": "markdown",
   "metadata": {},
   "source": [
    "## Evaluasi Data Training"
   ]
  },
  {
   "cell_type": "code",
   "execution_count": 147,
   "metadata": {},
   "outputs": [
    {
     "data": {
      "image/png": "[encoded data removed]",
      "text/plain": [
       "<Figure size 2000x600 with 3 Axes>"
      ]
     },
     "metadata": {},
     "output_type": "display_data"
    }
   ],
   "source": [
    "sns.set_style(style='whitegrid')\n",
    "\n",
    "fig, axes = plt.subplots(1, 3, figsize=(20,6))\n",
    "graph = ['Acc', 'loss', 'get_f1']\n",
    "title = [\"Akurasi Dan Validasi Akurasi\", \"Loss Dan Validasi Loss\", \"F1 Score Dan Validasi F1 Score\"]\n",
    "\n",
    "def draw_graph(i, text, title):\n",
    "    axes[i].set_title(title)\n",
    "    fig = sns.lineplot(ax=axes[i], x=model_hist.epoch, y=model_hist.history[text], marker='o')\n",
    "    fig = sns.lineplot(ax=axes[i], x=model_hist.epoch, y=model_hist.history[f'val_{text}'], marker='o')\n",
    "    axes[i].legend([text, f'val_{text}'])\n",
    "\n",
    "def text_graph(i, text):\n",
    "    for j, (x, y) in enumerate(zip(model_hist.epoch, model_hist.history[f'{text}'])):\n",
    "        if j == 19:\n",
    "          axes[i].text(x = x - 0.2, y = y - 0.009, s = round(y, 3), color = 'red') \n",
    "    \n",
    "    for j, (x, y) in enumerate(zip(model_hist.epoch, model_hist.history[f'val_{text}'])):\n",
    "        if j == 19:\n",
    "          axes[i].text(x = x - 0.2, y = y - 0.009, s = round(y, 3), color = 'red') \n",
    "\n",
    "for i, (val, tit) in enumerate(zip(graph, title)):\n",
    "    draw_graph(i, val, tit)\n",
    "    text_graph(i, val)\n",
    "\n",
    "     \n"
   ]
  },
  {
   "cell_type": "markdown",
   "metadata": {},
   "source": [
    "## Uji ke Data Testing"
   ]
  },
  {
   "cell_type": "code",
   "execution_count": 145,
   "metadata": {},
   "outputs": [
    {
     "name": "stdout",
     "output_type": "stream",
     "text": [
      "\u001b[1m238/238\u001b[0m \u001b[32m━━━━━━━━━━━━━━━━━━━━\u001b[0m\u001b[37m\u001b[0m \u001b[1m7s\u001b[0m 29ms/step - Acc: 0.8821 - FN: 459.8996 - FP: 459.8996 - Precision: 0.8821 - ROC-AUC: 0.9295 - Recall: 0.8821 - TN: 3379.9583 - TP: 3379.9583 - get_f1: 0.8821 - loss: 0.6209\n"
     ]
    },
    {
     "data": {
      "text/plain": [
       "[0.619820773601532,\n",
       " 6703.0,\n",
       " 912.0,\n",
       " 6703.0,\n",
       " 912.0,\n",
       " 0.8802363872528076,\n",
       " 0.8802363872528076,\n",
       " 0.8802363872528076,\n",
       " 0.9298495054244995,\n",
       " 0.8802351355552673]"
      ]
     },
     "execution_count": 145,
     "metadata": {},
     "output_type": "execute_result"
    }
   ],
   "source": [
    "model_eval = model.evaluate(features_test_nn, target_test_nn, batch_size=32)\n",
    "model_eval"
   ]
  },
  {
   "cell_type": "code",
   "execution_count": 148,
   "metadata": {},
   "outputs": [
    {
     "data": {
      "image/png": "[encoded data removed]",
      "text/plain": [
       "<Figure size 700x500 with 2 Axes>"
      ]
     },
     "metadata": {},
     "output_type": "display_data"
    }
   ],
   "source": [
    "# confusion matrix\n",
    "plt.figure(figsize=(7, 5))\n",
    "sns.heatmap((\n",
    "    [int(model_eval[1]), int(model_eval[2])],  \n",
    "    [int(model_eval[2]), int(model_eval[1])]\n",
    "), annot=True, xticklabels=[0, 1], yticklabels=[0, 1], cmap='flare', fmt='d')\n",
    "\n",
    "plt.ylabel('Actual')\n",
    "plt.xlabel('Predicted')\n",
    "plt.show()"
   ]
  },
  {
   "cell_type": "markdown",
   "metadata": {},
   "source": [
    "# Kesimpulan\n",
    "\n",
    "Dataset yang digunakan pada project ini merupakan data review tentang e-commerce yang bernama Amazon. Dataset ini merupakan data sekunder yang bisa di akses melalui *Kaggle.com* dengan 19996 baris data dan 2 kolom. Secara keseluruhan bisa dipastikan bahwa review customer terhadap platform amazon cenderung lebih banyak `Positif` berdasarkan hasil analisa yang telah dilakukan. \n",
    "\n",
    "Pada tahap selanjutnya adalah modeling dengan melakukan perbandingan menggunakan algoritma machine learning dan deep learning. Untuk machine learning kita menggunakan algoritma Multinomial Naive Bayes sedangkan untuk deep learning kita menggunakan LSTM-NN. Dikarenakan dataset ini memiliki data yang tidak seimbang pada label target, maka dilakukan teknik resampling untuk melakukan sintetik pada label minoritas. Kemudian setelah melakukan training pada kedua algoritma tersebut, hasilnya bisa dilihat ditabel berikut ini:\n",
    "\n",
    "| Nama Model | Accuracy | Precision | Recall |\n",
    "| --- | --- | --- | --- |\n",
    "| Naive Bayes | 90% | 90% | 90% |\n",
    "| LSTM-NN | 88.21% | 88.2% | 88.2% |\n",
    "\n",
    "Berdasarkan tabel tersebut, kita bisa menyimpulkan model terbaik adalah dengan menggunakan algoritma machine learning Multinomial Naive Bayes"
   ]
  },
  {
   "cell_type": "markdown",
   "metadata": {},
   "source": []
  }
 ],
 "metadata": {
  "kernelspec": {
   "display_name": "Python 3",
   "language": "python",
   "name": "python3"
  },
  "language_info": {
   "codemirror_mode": {
    "name": "ipython",
    "version": 3
   },
   "file_extension": ".py",
   "mimetype": "text/x-python",
   "name": "python",
   "nbconvert_exporter": "python",
   "pygments_lexer": "ipython3",
   "version": "3.10.12"
  }
 },
 "nbformat": 4,
 "nbformat_minor": 2
}
